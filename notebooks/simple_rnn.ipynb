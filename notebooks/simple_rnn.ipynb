{
 "cells": [
  {
   "cell_type": "code",
   "execution_count": 2,
   "metadata": {},
   "outputs": [
    {
     "name": "stderr",
     "output_type": "stream",
     "text": [
      "/usr/local/Caskroom/miniconda/base/envs/torch/lib/python3.10/site-packages/tqdm/auto.py:22: TqdmWarning: IProgress not found. Please update jupyter and ipywidgets. See https://ipywidgets.readthedocs.io/en/stable/user_install.html\n",
      "  from .autonotebook import tqdm as notebook_tqdm\n"
     ]
    }
   ],
   "source": [
    "import torch\n",
    "import torch.nn as nn\n",
    "import torch.nn.functional as F\n",
    "import numpy as np\n",
    "import pytorch_lightning as pl\n",
    "from torchvision import transforms\n",
    "from torchvision.datasets import FashionMNIST\n",
    "from torch.utils.data import DataLoader, random_split\n",
    "from torch import optim"
   ]
  },
  {
   "cell_type": "markdown",
   "metadata": {},
   "source": [
    "## Download the dataset and load the dataset"
   ]
  },
  {
   "cell_type": "code",
   "execution_count": 3,
   "metadata": {},
   "outputs": [],
   "source": [
    "dataset = FashionMNIST(root='data/', download=True,transform=transforms.ToTensor())\n",
    "train, val = random_split(dataset, [55000, 5000])\n",
    "train =  DataLoader(train, batch_size=64, shuffle=True,drop_last=True)\n",
    "val = DataLoader(val, batch_size=64, shuffle=True,drop_last=True)"
   ]
  },
  {
   "cell_type": "code",
   "execution_count": 4,
   "metadata": {},
   "outputs": [],
   "source": [
    "class SimpleRNN(nn.Module):\n",
    "    def __init__(self,input_size,hidden_size,output_size,num_layers = 1) -> None:\n",
    "        super().__init__()\n",
    "        self.input_size = input_size\n",
    "        self.hidden_size = hidden_size\n",
    "        self.output_size = output_size\n",
    "        self.num_layers = num_layers\n",
    "        self.rnn = nn.RNN(input_size,hidden_size,num_layers,batch_first = False)\n",
    "        self.fc = nn.Linear(hidden_size,output_size)\n",
    "    def forward(self,x):\n",
    "        h, _ = self.rnn(x) # x = (seq_len,batch_size,input_size)\n",
    "        x = self.fc(h)\n",
    "        return x.softmax(dim = 1) # softmax for classification\n"
   ]
  },
  {
   "cell_type": "markdown",
   "metadata": {},
   "source": [
    "## Define the RRN \n",
    "* Input_model = 28*28\n",
    "* Sequence lenght = 1 ( just one channel )\n",
    "* Hidden_size = 64\n",
    "* output_size = 10\n"
   ]
  },
  {
   "cell_type": "code",
   "execution_count": null,
   "metadata": {},
   "outputs": [],
   "source": [
    "model = SimpleRNN(28*28,64,10)"
   ]
  },
  {
   "cell_type": "markdown",
   "metadata": {},
   "source": [
    "## Checking that the RNN works by running the training loop\n"
   ]
  },
  {
   "cell_type": "code",
   "execution_count": null,
   "metadata": {},
   "outputs": [],
   "source": [
    "criterion = nn.CrossEntropyLoss()\n",
    "optimizer = optim.Adam(model.parameters(),lr=0.001)\n",
    "\n",
    "\n",
    "loss_list = np.array([])\n",
    "model.train()\n",
    "for epoch in range(1_000):\n",
    "    loss_list = np.array([])\n",
    "    print(f\"Epoch {epoch} de 10\")\n",
    "    for i, batch_idex in enumerate(train):\n",
    "        optimizer.zero_grad()\n",
    "        x, y = batch_idex\n",
    "        x = x.permute(1,0,2,3)\n",
    "        x = x.reshape(1,64,28*28)\n",
    "        y = F.one_hot(y, num_classes=10).view(10,64)\n",
    "        y = y.float()\n",
    "        y = y.reshape(10,1,64)\n",
    "        y = y.permute(1,2,0)\n",
    "        pred = model(x)\n",
    "        loss = criterion(pred,y)\n",
    "        loss_list = np.append(loss_list,loss.item())\n",
    "        loss.backward()\n",
    "        optimizer.step()\n",
    "    print(f\"Loss: {loss_list.mean()}\")"
   ]
  },
  {
   "cell_type": "markdown",
   "metadata": {},
   "source": [
    "## Generating the PyTorch Lightning module"
   ]
  },
  {
   "cell_type": "code",
   "execution_count": 10,
   "metadata": {},
   "outputs": [],
   "source": [
    "class LitSimpleRNN(pl.LightningModule):\n",
    "    def __init__(self,input_size,hidden_size,output_size,num_layers = 1):\n",
    "        super().__init__()\n",
    "        self.input_size = input_size\n",
    "        self.hidden_size = hidden_size\n",
    "        self.output_size = output_size\n",
    "        self.num_layers = num_layers\n",
    "\n",
    "        self.RNN = SimpleRNN(input_size=input_size,hidden_size=hidden_size,output_size=output_size,num_layers=num_layers)\n",
    "    \n",
    "    def hot_encode(self,y, num_classes=10):\n",
    "        \"\"\"\n",
    "        One hot encode an int\n",
    "        \"\"\"\n",
    "        y = F.one_hot(y, num_classes=10).view(10,64)\n",
    "        return y.float()\n",
    "\n",
    "    \n",
    "    def training_step(self, batch, batch_idx):\n",
    "        # training_step defines the train loop.\n",
    "        # it is independent of forward\n",
    "        x, y = batch\n",
    "        x = x.permute(1,0,2,3)\n",
    "        x = x.reshape(1,64,28*28)\n",
    "        y = self.hot_encode(y,10)\n",
    "        # y = F.one_hot(y, num_classes=10).view(10,64)\n",
    "        # y = y.float()\n",
    "        y = y.reshape(10,1,64)\n",
    "        y = y.permute(1,2,0)\n",
    "        pred = self.RNN(x)\n",
    "        loss = nn.CrossEntropyLoss()(pred,y)\n",
    "        # Logging to TensorBoard by default\n",
    "        self.log(\"train_loss\", loss)\n",
    "        return loss\n",
    "    def validation_step(self, batch, batch_idx):\n",
    "        pass\n",
    "    def configure_optimizers(self):\n",
    "        optimizer = optim.Adam(self.parameters(), lr=1e-3)\n",
    "        return optimizer"
   ]
  },
  {
   "cell_type": "code",
   "execution_count": 11,
   "metadata": {},
   "outputs": [
    {
     "name": "stderr",
     "output_type": "stream",
     "text": [
      "GPU available: False, used: False\n",
      "TPU available: False, using: 0 TPU cores\n",
      "IPU available: False, using: 0 IPUs\n",
      "HPU available: False, using: 0 HPUs\n",
      "/usr/local/Caskroom/miniconda/base/envs/torch/lib/python3.10/site-packages/pytorch_lightning/trainer/configuration_validator.py:108: PossibleUserWarning: You defined a `validation_step` but have no `val_dataloader`. Skipping val loop.\n",
      "  rank_zero_warn(\n",
      "Missing logger folder: /Users/jaime/repos/nlp_models/notebooks/lightning_logs\n",
      "\n",
      "  | Name | Type      | Params\n",
      "-----------------------------------\n",
      "0 | RNN  | SimpleRNN | 55.1 K\n",
      "-----------------------------------\n",
      "55.1 K    Trainable params\n",
      "0         Non-trainable params\n",
      "55.1 K    Total params\n",
      "0.220     Total estimated model params size (MB)\n",
      "/usr/local/Caskroom/miniconda/base/envs/torch/lib/python3.10/site-packages/pytorch_lightning/trainer/connectors/data_connector.py:224: PossibleUserWarning: The dataloader, train_dataloader, does not have many workers which may be a bottleneck. Consider increasing the value of the `num_workers` argument` (try 8 which is the number of cpus on this machine) in the `DataLoader` init to improve performance.\n",
      "  rank_zero_warn(\n"
     ]
    },
    {
     "name": "stdout",
     "output_type": "stream",
     "text": [
      "Epoch 0: 100%|██████████| 859/859 [00:12<00:00, 69.23it/s, loss=26.6, v_num=0]"
     ]
    },
    {
     "name": "stderr",
     "output_type": "stream",
     "text": [
      "`Trainer.fit` stopped: `max_epochs=1` reached.\n"
     ]
    },
    {
     "name": "stdout",
     "output_type": "stream",
     "text": [
      "Epoch 0: 100%|██████████| 859/859 [00:12<00:00, 69.19it/s, loss=26.6, v_num=0]\n"
     ]
    }
   ],
   "source": [
    "RNN = LitSimpleRNN(28*28,64,10)\n",
    "trainer = pl.Trainer(limit_predict_batches=100,max_epochs=1)\n",
    "trainer.fit(model = RNN,train_dataloaders=train)"
   ]
  }
 ],
 "metadata": {
  "kernelspec": {
   "display_name": "Python 3.10.8 ('torch')",
   "language": "python",
   "name": "python3"
  },
  "language_info": {
   "codemirror_mode": {
    "name": "ipython",
    "version": 3
   },
   "file_extension": ".py",
   "mimetype": "text/x-python",
   "name": "python",
   "nbconvert_exporter": "python",
   "pygments_lexer": "ipython3",
   "version": "3.10.6"
  },
  "orig_nbformat": 4,
  "vscode": {
   "interpreter": {
    "hash": "04c55434ed2b08bb5bf53ae5f55862aa0e3be3e7e24f24482bddca5922bab6dd"
   }
  }
 },
 "nbformat": 4,
 "nbformat_minor": 2
}
